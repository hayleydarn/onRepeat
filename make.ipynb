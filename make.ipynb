{
 "cells": [
  {
   "cell_type": "code",
   "execution_count": null,
   "metadata": {},
   "outputs": [],
   "source": [
    "## made .txt file of same name, gave me txt version of page with metadata, interesting!\n",
    "# or not? ican open txt file of it either way"
   ]
  },
  {
   "cell_type": "code",
   "execution_count": 239,
   "metadata": {},
   "outputs": [],
   "source": [
    "# imports\n",
    "import pandas as pd\n",
    "import numpy as np\n",
    "import spotipy #pip install spotipy first\n",
    "import os\n",
    "from client import *\n",
    "from spotipy.oauth2 import SpotifyClientCredentials # required to access user data\n",
    "import spotipy.util as util"
   ]
  },
  {
   "cell_type": "markdown",
   "metadata": {},
   "source": [
    "### Spotify Authorization"
   ]
  },
  {
   "cell_type": "code",
   "execution_count": 240,
   "metadata": {},
   "outputs": [],
   "source": [
    "user= userID\n",
    "secret = secret\n",
    "cid = clientID"
   ]
  },
  {
   "cell_type": "code",
   "execution_count": 241,
   "metadata": {},
   "outputs": [],
   "source": [
    "def get_token(scope=None): #get token and set scope later if want\n",
    "    redirect_uri = \"http://localhost:4000\"\n",
    "    token = util.prompt_for_user_token(user, scope, cid, secret, redirect_uri)\n",
    "    return token"
   ]
  },
  {
   "cell_type": "code",
   "execution_count": 281,
   "metadata": {},
   "outputs": [],
   "source": [
    "token = get_token(scope='playlist-modify-private') # can make public later\n",
    "\n",
    "sp = spotipy.Spotify(auth=token)"
   ]
  },
  {
   "cell_type": "markdown",
   "metadata": {},
   "source": [
    "### Initialize the Playlist and Main Dataframe"
   ]
  },
  {
   "cell_type": "code",
   "execution_count": 243,
   "metadata": {},
   "outputs": [],
   "source": [
    "# run once, use playlist_id to ADD the songs to\n",
    "def initialize_playlist():\n",
    "    playlist = sp.user_playlist_create(user, 'AutoRepeatAll', public = False)\n",
    "    playlist_id = playlist[\"id\"]\n",
    "    return playlist_id"
   ]
  },
  {
   "cell_type": "code",
   "execution_count": 244,
   "metadata": {},
   "outputs": [],
   "source": [
    "AutoRepeatAll_id = initialize_playlist()"
   ]
  },
  {
   "cell_type": "code",
   "execution_count": 245,
   "metadata": {},
   "outputs": [],
   "source": [
    "# playlist urls to get data from\n",
    "playlist_urls =['37i9dQZF1EpoJIsGQLtjPv', '37i9dQZF1EppjlneYJWXxZ', '37i9dQZF1Epf11aYgU5Q4u', '37i9dQZF1EpoxPdVWcv3CP', '37i9dQZF1EpwZ0YRZwMO7Y', '37i9dQZF1EpoCGPknzdJwy', '37i9dQZF1EphQVRnk9uGI6', '37i9dQZF1Epg86odGM5hPi', '37i9dQZF1EpL8wYDpLK6E6', '37i9dQZF1EpfkWyPBlEQKr']\n",
    "creator = \"spotify\""
   ]
  },
  {
   "cell_type": "code",
   "execution_count": 246,
   "metadata": {},
   "outputs": [],
   "source": [
    "# make df to hold items to be added to playlist?\n",
    "columns = [\"artist\", \"album\", \"track_name\", \"track_id\"]\n",
    "main_df = pd.DataFrame(columns = columns)"
   ]
  },
  {
   "cell_type": "markdown",
   "metadata": {},
   "source": [
    "### Get the songs from the playlists"
   ]
  },
  {
   "cell_type": "code",
   "execution_count": 248,
   "metadata": {},
   "outputs": [],
   "source": [
    "# gets playlist tracks from single playlist and makes a df with track data for single playlist\n",
    "\n",
    "def playlist_to_df(creator, playlist_id):\n",
    "    playlist_df = pd.DataFrame(columns=columns)\n",
    "    playlist_items = sp.user_playlist_tracks(creator, playlist_id)[\"items\"] # returns item detail for each song\n",
    "    for track in playlist_items:\n",
    "        track_features = {} # make dict for each track with appropriate info\n",
    "        track_features[\"artist\"] = track[\"track\"][\"album\"][\"artists\"][0][\"name\"]\n",
    "        track_features[\"album\"] = track[\"track\"][\"album\"][\"name\"]\n",
    "        track_features[\"track_name\"] = track[\"track\"][\"name\"]\n",
    "        track_features[\"track_id\"] = track[\"track\"][\"id\"]\n",
    "        \n",
    "        track_df = pd.DataFrame(track_features, index=[0]) # make df from dict for each item\n",
    "        playlist_df = pd.concat([playlist_df, track_df], ignore_index = True) # add it to the ma\n",
    "        \n",
    "    return playlist_df\n",
    "#https://www.linkedin.com/pulse/extracting-your-fav-playlist-info-spotifys-api-samantha-jones/"
   ]
  },
  {
   "cell_type": "code",
   "execution_count": 249,
   "metadata": {},
   "outputs": [],
   "source": [
    "# makes list of dfs for each playlist_id in playlist_urls list\n",
    "# returns list of dfs\n",
    "\n",
    "def make_playlist_df_list(playlist_urls):\n",
    "    playlist_df_list = []\n",
    "    for playlist in playlist_urls:\n",
    "        playlist_df_list.append(playlist_to_df(creator, playlist))\n",
    "    return playlist_df_list"
   ]
  },
  {
   "cell_type": "code",
   "execution_count": 251,
   "metadata": {},
   "outputs": [],
   "source": [
    "df_playlist_list = make_playlist_df_list(playlist_urls)"
   ]
  },
  {
   "cell_type": "code",
   "execution_count": 260,
   "metadata": {},
   "outputs": [],
   "source": [
    "# concats all track info into one main_df\n",
    "# returns main_df, duplicates removed\n",
    "def add_playlist_dfs_to_main_df():\n",
    "    main_df = pd.concat(df_playlist_list, axis=0, ignore_index=True)\n",
    "    main_df = main_df.drop_duplicates()\n",
    "    return main_df"
   ]
  },
  {
   "cell_type": "code",
   "execution_count": 261,
   "metadata": {},
   "outputs": [],
   "source": [
    "main_df = add_playlist_dfs_to_main_df()"
   ]
  },
  {
   "cell_type": "markdown",
   "metadata": {},
   "source": [
    "### Make list of track_uris and split into batches"
   ]
  },
  {
   "cell_type": "code",
   "execution_count": 270,
   "metadata": {},
   "outputs": [],
   "source": [
    "all_tracks = main_df[\"track_id\"].tolist()"
   ]
  },
  {
   "cell_type": "code",
   "execution_count": 272,
   "metadata": {},
   "outputs": [],
   "source": [
    "# split into batches:\n",
    "# use yield for a generator function\n",
    "def make_batches(l, n):\n",
    "    for i in range(0, len(l), n): \n",
    "        yield l[i:i + n]"
   ]
  },
  {
   "cell_type": "code",
   "execution_count": 277,
   "metadata": {},
   "outputs": [],
   "source": [
    "batches = list(make_batches(all_tracks, 99))"
   ]
  },
  {
   "cell_type": "markdown",
   "metadata": {},
   "source": [
    "### Add tracks from main_df to AutoRepeatAll playlist"
   ]
  },
  {
   "cell_type": "code",
   "execution_count": null,
   "metadata": {},
   "outputs": [],
   "source": []
  },
  {
   "cell_type": "code",
   "execution_count": 279,
   "metadata": {},
   "outputs": [],
   "source": [
    "def add_tracks_to_main_playlist():\n",
    "    for batch in batches:\n",
    "        sp.playlist_add_items(playlist_id=AutoRepeatAll_id, items=batch)\n",
    "    return print(\"confirm tracks added in spotify app\")"
   ]
  },
  {
   "cell_type": "code",
   "execution_count": 282,
   "metadata": {},
   "outputs": [
    {
     "name": "stdout",
     "output_type": "stream",
     "text": [
      "confirm tracks added in spotify app\n"
     ]
    }
   ],
   "source": [
    "add_tracks_to_main_playlist()"
   ]
  },
  {
   "cell_type": "code",
   "execution_count": 115,
   "metadata": {},
   "outputs": [],
   "source": [
    "track_list = df1[\"track_id\"].tolist()"
   ]
  },
  {
   "cell_type": "code",
   "execution_count": 128,
   "metadata": {},
   "outputs": [],
   "source": [
    "def make_playlist(df, track_list):\n",
    "    playlist = sp.user_playlist_create(user, 'autoRepeat', public = False)\n",
    "    playlist_id = playlist[\"id\"]\n",
    "    \n",
    "    sp.user_playlist_add_tracks(user, playlist_id=playlist_id, tracks=track_list)\n",
    "    return playlist_id"
   ]
  },
  {
   "cell_type": "code",
   "execution_count": 129,
   "metadata": {},
   "outputs": [
    {
     "data": {
      "text/plain": [
       "'7q1aLfR34kcOI3jhwMM1ah'"
      ]
     },
     "execution_count": 129,
     "metadata": {},
     "output_type": "execute_result"
    }
   ],
   "source": [
    "make_playlist(df1, track_list)"
   ]
  }
 ],
 "metadata": {
  "kernelspec": {
   "display_name": "Python 3",
   "language": "python",
   "name": "python3"
  },
  "language_info": {
   "codemirror_mode": {
    "name": "ipython",
    "version": 3
   },
   "file_extension": ".py",
   "mimetype": "text/x-python",
   "name": "python",
   "nbconvert_exporter": "python",
   "pygments_lexer": "ipython3",
   "version": "3.8.5"
  }
 },
 "nbformat": 4,
 "nbformat_minor": 4
}
