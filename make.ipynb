{
 "cells": [
  {
   "cell_type": "code",
   "execution_count": 340,
   "metadata": {},
   "outputs": [],
   "source": [
    "# imports\n",
    "import pandas as pd\n",
    "import numpy as np\n",
    "import spotipy #pip install spotipy first\n",
    "import os\n",
    "from client import *\n",
    "from spotipy.oauth2 import SpotifyClientCredentials # required to access user data\n",
    "import spotipy.util as util\n",
    "from datetime import datetime\n",
    "from pathlib import Path"
   ]
  },
  {
   "cell_type": "markdown",
   "metadata": {},
   "source": [
    "### Spotify Authorization"
   ]
  },
  {
   "cell_type": "code",
   "execution_count": 341,
   "metadata": {},
   "outputs": [],
   "source": [
    "token = get_token(scope='playlist-modify-private') # can make public later\n",
    "sp = spotipy.Spotify(auth=token)\n",
    "\n",
    "user= userID\n",
    "secret = secret\n",
    "cid = clientID"
   ]
  },
  {
   "cell_type": "code",
   "execution_count": 342,
   "metadata": {},
   "outputs": [],
   "source": [
    "def get_token(scope=None): #get token and set scope later if want\n",
    "    redirect_uri = \"http://localhost:4000\"\n",
    "    token = util.prompt_for_user_token(user, scope, cid, secret, redirect_uri)\n",
    "    return token"
   ]
  },
  {
   "cell_type": "markdown",
   "metadata": {},
   "source": [
    "### Initialize the Playlist RUN ONCE"
   ]
  },
  {
   "cell_type": "code",
   "execution_count": 343,
   "metadata": {},
   "outputs": [],
   "source": [
    "# run once, use playlist_id to ADD the songs to\n",
    "def initialize_playlist():\n",
    "    playlist = sp.user_playlist_create(user, 'AutoRepeatAll', public = False)\n",
    "    playlist_id = playlist[\"id\"]\n",
    "    return playlist_id"
   ]
  },
  {
   "cell_type": "code",
   "execution_count": 344,
   "metadata": {},
   "outputs": [],
   "source": [
    "AutoRepeatAll_id = initialize_playlist()"
   ]
  },
  {
   "cell_type": "markdown",
   "metadata": {},
   "source": [
    "### Playlist URLs and Make main_df"
   ]
  },
  {
   "cell_type": "code",
   "execution_count": 345,
   "metadata": {},
   "outputs": [],
   "source": [
    "# playlist urls to get data from\n",
    "playlist_urls =['37i9dQZF1EpoJIsGQLtjPv', '37i9dQZF1EppjlneYJWXxZ', '37i9dQZF1Epf11aYgU5Q4u', '37i9dQZF1EpoxPdVWcv3CP', '37i9dQZF1EpwZ0YRZwMO7Y', '37i9dQZF1EpoCGPknzdJwy', '37i9dQZF1EphQVRnk9uGI6', '37i9dQZF1Epg86odGM5hPi', '37i9dQZF1EpL8wYDpLK6E6', '37i9dQZF1EpfkWyPBlEQKr', '37i9dQZF1EpgvNPBi84lNH',\n",
    "'37i9dQZF1Eps5kuCDsqVgL']\n",
    "creator = \"spotify\""
   ]
  },
  {
   "cell_type": "code",
   "execution_count": 346,
   "metadata": {},
   "outputs": [],
   "source": [
    "# make df to hold items to be added to playlist?\n",
    "columns = [\"artist\", \"album\", \"track_name\", \"track_id\"]\n",
    "main_df = pd.DataFrame(columns = columns)"
   ]
  },
  {
   "cell_type": "markdown",
   "metadata": {},
   "source": [
    "### Get the songs from the playlists"
   ]
  },
  {
   "cell_type": "code",
   "execution_count": 347,
   "metadata": {},
   "outputs": [],
   "source": [
    "# gets playlist tracks from single playlist and makes a df with track data for single playlist\n",
    "\n",
    "def playlist_to_df(creator, playlist_id):\n",
    "    playlist_df = pd.DataFrame(columns=columns)\n",
    "    playlist_items = sp.user_playlist_tracks(creator, playlist_id)[\"items\"] # returns item detail for each song\n",
    "    for track in playlist_items:\n",
    "        track_features = {} # make dict for each track with appropriate info\n",
    "        track_features[\"artist\"] = track[\"track\"][\"album\"][\"artists\"][0][\"name\"]\n",
    "        track_features[\"album\"] = track[\"track\"][\"album\"][\"name\"]\n",
    "        track_features[\"track_name\"] = track[\"track\"][\"name\"]\n",
    "        track_features[\"track_id\"] = track[\"track\"][\"id\"]\n",
    "        \n",
    "        track_df = pd.DataFrame(track_features, index=[0]) # make df from dict for each item\n",
    "        playlist_df = pd.concat([playlist_df, track_df], ignore_index = True) # add it to the ma\n",
    "        \n",
    "    return playlist_df\n",
    "#https://www.linkedin.com/pulse/extracting-your-fav-playlist-info-spotifys-api-samantha-jones/"
   ]
  },
  {
   "cell_type": "code",
   "execution_count": 348,
   "metadata": {},
   "outputs": [],
   "source": [
    "# makes list of dfs for each playlist_id in playlist_urls list\n",
    "# returns list of dfs\n",
    "\n",
    "def make_playlist_df_list(playlist_urls):\n",
    "    playlist_df_list = []\n",
    "    for playlist in playlist_urls:\n",
    "        playlist_df_list.append(playlist_to_df(creator, playlist))\n",
    "    return playlist_df_list"
   ]
  },
  {
   "cell_type": "code",
   "execution_count": 349,
   "metadata": {},
   "outputs": [],
   "source": [
    "df_playlist_list = make_playlist_df_list(playlist_urls)"
   ]
  },
  {
   "cell_type": "code",
   "execution_count": 365,
   "metadata": {},
   "outputs": [],
   "source": [
    "# concats all track info into one main_df\n",
    "# returns main_df, duplicates removed\n",
    "# saves this df as backup\n",
    "\n",
    "def add_playlist_dfs_to_df(df, playlist_list):\n",
    "    df = pd.concat(playlist_list, axis=0, ignore_index=True)\n",
    "    df = df.drop_duplicates()\n",
    "    df.to_csv(\"./data/{}.csv\".format(datetime.now().strftime(\"%Y_%m_%d\")), index=False)\n",
    "    return df"
   ]
  },
  {
   "cell_type": "code",
   "execution_count": 351,
   "metadata": {},
   "outputs": [],
   "source": [
    "og_df = add_playlist_dfs_to_df(main_df)"
   ]
  },
  {
   "cell_type": "markdown",
   "metadata": {},
   "source": [
    "### Make list of track_uris and split into batches"
   ]
  },
  {
   "cell_type": "code",
   "execution_count": 352,
   "metadata": {},
   "outputs": [],
   "source": [
    "all_tracks = og_df[\"track_id\"].tolist()"
   ]
  },
  {
   "cell_type": "code",
   "execution_count": 354,
   "metadata": {},
   "outputs": [],
   "source": [
    "# split into batches:\n",
    "# use yield for a generator function\n",
    "\n",
    "def make_batches(l, n):\n",
    "    for i in range(0, len(l), n): \n",
    "        yield l[i:i + n]"
   ]
  },
  {
   "cell_type": "code",
   "execution_count": 355,
   "metadata": {},
   "outputs": [],
   "source": [
    "batches = list(make_batches(all_tracks, 99))"
   ]
  },
  {
   "cell_type": "markdown",
   "metadata": {},
   "source": [
    "### Add tracks from main_df to AutoRepeatAll playlist"
   ]
  },
  {
   "cell_type": "code",
   "execution_count": 356,
   "metadata": {},
   "outputs": [],
   "source": [
    "# in batches, add the songs to the playlist\n",
    "\n",
    "def add_tracks_to_main_playlist():\n",
    "    for batch in batches:\n",
    "        sp.playlist_add_items(playlist_id=AutoRepeatAll_id, items=batch)\n",
    "    return print(\"confirm tracks added in spotify app\")"
   ]
  },
  {
   "cell_type": "code",
   "execution_count": 357,
   "metadata": {},
   "outputs": [
    {
     "name": "stdout",
     "output_type": "stream",
     "text": [
      "confirm tracks added in spotify app\n"
     ]
    }
   ],
   "source": [
    "add_tracks_to_main_playlist()"
   ]
  },
  {
   "cell_type": "markdown",
   "metadata": {},
   "source": [
    "## Once the Original Containing Playlist is made..."
   ]
  },
  {
   "cell_type": "markdown",
   "metadata": {},
   "source": [
    "### get orignal Playlist "
   ]
  },
  {
   "cell_type": "code",
   "execution_count": 306,
   "metadata": {},
   "outputs": [],
   "source": [
    "def read_latest_csv():\n",
    "    fld = \"./data\"\n",
    "    files = Path(fld).glob('*csv')\n",
    "    latest = max(files, key=lambda f: f.stat().st_mtime)\n",
    "    return pd.read_csv(\"{}\".format(latest))"
   ]
  },
  {
   "cell_type": "code",
   "execution_count": 311,
   "metadata": {},
   "outputs": [],
   "source": [
    "# get laatest csv track list:\n",
    "most_recent_df = read_latest_csv()\n",
    "most_recent_tracks = most_recent_df[\"track_id\"].tolist()"
   ]
  },
  {
   "cell_type": "code",
   "execution_count": 362,
   "metadata": {},
   "outputs": [],
   "source": [
    "# make df to hold items to be added to playlist?\n",
    "new_columns = [\"artist\", \"album\", \"track_name\", \"track_id\"]\n",
    "new_df = pd.DataFrame(columns = new_columns)"
   ]
  },
  {
   "cell_type": "code",
   "execution_count": 360,
   "metadata": {},
   "outputs": [],
   "source": [
    "new_playlist_list = make_playlist_df_list(playlist_urls)"
   ]
  },
  {
   "cell_type": "code",
   "execution_count": 366,
   "metadata": {},
   "outputs": [],
   "source": [
    "new_df = add_playlist_dfs_to_df(new_df, new_playlist_list)"
   ]
  },
  {
   "cell_type": "code",
   "execution_count": 368,
   "metadata": {},
   "outputs": [],
   "source": [
    "new_tracks = new_df['track_id'].tolist()"
   ]
  },
  {
   "cell_type": "markdown",
   "metadata": {},
   "source": [
    "### Add Only New Songs if Playlists Update"
   ]
  },
  {
   "cell_type": "code",
   "execution_count": 369,
   "metadata": {},
   "outputs": [],
   "source": [
    "def add_new_tracks_only():\n",
    "    unique_tracks = []\n",
    "    for i in new_tracks:\n",
    "        if i not in most_recent_tracks:\n",
    "            unique_tracks.append(i)\n",
    "        else: pass\n",
    "    sp.playlist_add_items(playlist_id=AutoRepeatAll_id, items= unique_tracks)"
   ]
  },
  {
   "cell_type": "code",
   "execution_count": 371,
   "metadata": {},
   "outputs": [],
   "source": [
    "add_new_tracks_only()"
   ]
  }
 ],
 "metadata": {
  "kernelspec": {
   "display_name": "Python 3",
   "language": "python",
   "name": "python3"
  },
  "language_info": {
   "codemirror_mode": {
    "name": "ipython",
    "version": 3
   },
   "file_extension": ".py",
   "mimetype": "text/x-python",
   "name": "python",
   "nbconvert_exporter": "python",
   "pygments_lexer": "ipython3",
   "version": "3.8.5"
  }
 },
 "nbformat": 4,
 "nbformat_minor": 4
}
