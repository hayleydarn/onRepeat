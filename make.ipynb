{
 "cells": [
  {
   "cell_type": "code",
   "execution_count": 41,
   "metadata": {},
   "outputs": [],
   "source": [
    "# imports\n",
    "import pandas as pd\n",
    "import numpy as np\n",
    "import spotipy #pip install spotipy first\n",
    "import os\n",
    "from client import *\n",
    "from spotipy.oauth2 import SpotifyClientCredentials # required to access user data\n",
    "import spotipy.util as util\n",
    "from datetime import datetime\n",
    "from pathlib import Path"
   ]
  },
  {
   "cell_type": "markdown",
   "metadata": {},
   "source": [
    "### Spotify Authorization"
   ]
  },
  {
   "cell_type": "code",
   "execution_count": 42,
   "metadata": {},
   "outputs": [],
   "source": [
    "def get_token(scope=None): #get token and set scope later if want\n",
    "    redirect_uri = \"http://localhost:4000\"\n",
    "    token = util.prompt_for_user_token(user, scope, cid, secret, redirect_uri)\n",
    "    return token"
   ]
  },
  {
   "cell_type": "code",
   "execution_count": 43,
   "metadata": {},
   "outputs": [],
   "source": [
    "user = userID\n",
    "secret = secret\n",
    "cid = clientID\n",
    "AutoRepeatAll_id = AutoRepeatAll_id"
   ]
  },
  {
   "cell_type": "code",
   "execution_count": 44,
   "metadata": {},
   "outputs": [],
   "source": [
    "token = get_token(scope='playlist-modify-private') # can make public later\n",
    "sp = spotipy.Spotify(auth=token)"
   ]
  },
  {
   "cell_type": "markdown",
   "metadata": {},
   "source": [
    "### Initialize the Playlist RUN ONCE"
   ]
  },
  {
   "cell_type": "code",
   "execution_count": 45,
   "metadata": {},
   "outputs": [],
   "source": [
    "# run once, use playlist_id to ADD the songs to\n",
    "def initialize_playlist():\n",
    "    playlist = sp.user_playlist_create(user, 'AutoRepeatAll', public = False)\n",
    "    playlist_id = playlist[\"id\"]\n",
    "    return playlist_id"
   ]
  },
  {
   "cell_type": "code",
   "execution_count": 46,
   "metadata": {},
   "outputs": [],
   "source": [
    "AutoRepeatAll_id = initialize_playlist()"
   ]
  },
  {
   "cell_type": "markdown",
   "metadata": {},
   "source": [
    "### Playlist URLs and Make main_df"
   ]
  },
  {
   "cell_type": "code",
   "execution_count": 47,
   "metadata": {},
   "outputs": [],
   "source": [
    "# playlist urls to get data from\n",
    "playlist_urls =['37i9dQZF1EpoJIsGQLtjPv', '37i9dQZF1EppjlneYJWXxZ', '37i9dQZF1Epf11aYgU5Q4u', '37i9dQZF1EpoxPdVWcv3CP', '37i9dQZF1EpwZ0YRZwMO7Y', '37i9dQZF1EpoCGPknzdJwy', '37i9dQZF1EphQVRnk9uGI6', '37i9dQZF1Epg86odGM5hPi', '37i9dQZF1EpL8wYDpLK6E6', '37i9dQZF1EpfkWyPBlEQKr', '37i9dQZF1EpgvNPBi84lNH',\n",
    "'37i9dQZF1Eps5kuCDsqVgL']\n",
    "creator = \"spotify\""
   ]
  },
  {
   "cell_type": "code",
   "execution_count": 48,
   "metadata": {},
   "outputs": [],
   "source": [
    "# make df to hold items to be added to playlist?\n",
    "columns = [\"artist\", \"album\", \"track_name\", \"track_id\"]\n",
    "main_df = pd.DataFrame(columns = columns)"
   ]
  },
  {
   "cell_type": "markdown",
   "metadata": {},
   "source": [
    "### Get the songs from the playlists"
   ]
  },
  {
   "cell_type": "code",
   "execution_count": 49,
   "metadata": {},
   "outputs": [],
   "source": [
    "# gets playlist tracks from single playlist and makes a df with track data for single playlist\n",
    "\n",
    "def playlist_to_df(creator, playlist_id):\n",
    "    playlist_df = pd.DataFrame(columns=columns)\n",
    "    playlist_items = sp.user_playlist_tracks(creator, playlist_id)[\"items\"] # returns item detail for each song\n",
    "    for track in playlist_items:\n",
    "        track_features = {} # make dict for each track with appropriate info\n",
    "        track_features[\"artist\"] = track[\"track\"][\"album\"][\"artists\"][0][\"name\"]\n",
    "        track_features[\"album\"] = track[\"track\"][\"album\"][\"name\"]\n",
    "        track_features[\"track_name\"] = track[\"track\"][\"name\"]\n",
    "        track_features[\"track_id\"] = track[\"track\"][\"id\"]\n",
    "        \n",
    "        track_df = pd.DataFrame(track_features, index=[0]) # make df from dict for each item\n",
    "        playlist_df = pd.concat([playlist_df, track_df], ignore_index = True) # add it to the ma\n",
    "        \n",
    "    return playlist_df\n",
    "#https://www.linkedin.com/pulse/extracting-your-fav-playlist-info-spotifys-api-samantha-jones/"
   ]
  },
  {
   "cell_type": "code",
   "execution_count": 50,
   "metadata": {},
   "outputs": [],
   "source": [
    "# makes list of dfs for each playlist_id in playlist_urls list\n",
    "# returns list of dfs\n",
    "\n",
    "def make_playlist_df_list(playlist_urls):\n",
    "    playlist_df_list = []\n",
    "    for playlist in playlist_urls:\n",
    "        playlist_df_list.append(playlist_to_df(creator, playlist))\n",
    "    return playlist_df_list"
   ]
  },
  {
   "cell_type": "code",
   "execution_count": 51,
   "metadata": {},
   "outputs": [],
   "source": [
    "df_playlist_list = make_playlist_df_list(playlist_urls)"
   ]
  },
  {
   "cell_type": "code",
   "execution_count": 52,
   "metadata": {},
   "outputs": [],
   "source": [
    "# concats all track info into one main_df\n",
    "# returns main_df, duplicates removed\n",
    "# saves this df as backup\n",
    "\n",
    "def add_playlist_dfs_to_df(df, playlist_list):\n",
    "    df = pd.concat(playlist_list, axis=0, ignore_index=True)\n",
    "    df = df.drop_duplicates()\n",
    "    df.to_csv(\"./data/{}.csv\".format(datetime.now().strftime(\"%Y_%m_%d\")), index=False)\n",
    "    return df"
   ]
  },
  {
   "cell_type": "code",
   "execution_count": 53,
   "metadata": {},
   "outputs": [],
   "source": [
    "og_df = add_playlist_dfs_to_df(main_df, df_playlist_list)"
   ]
  },
  {
   "cell_type": "markdown",
   "metadata": {},
   "source": [
    "### Make list of track_uris and split into batches"
   ]
  },
  {
   "cell_type": "code",
   "execution_count": 54,
   "metadata": {},
   "outputs": [],
   "source": [
    "all_tracks = og_df[\"track_id\"].tolist()"
   ]
  },
  {
   "cell_type": "code",
   "execution_count": 55,
   "metadata": {},
   "outputs": [],
   "source": [
    "# split into batches:\n",
    "# use yield for a generator function\n",
    "\n",
    "def make_batches(l, n):\n",
    "    for i in range(0, len(l), n): \n",
    "        yield l[i:i + n]"
   ]
  },
  {
   "cell_type": "code",
   "execution_count": 56,
   "metadata": {},
   "outputs": [],
   "source": [
    "batches = list(make_batches(all_tracks, 99))"
   ]
  },
  {
   "cell_type": "markdown",
   "metadata": {},
   "source": [
    "### Add tracks from main_df to AutoRepeatAll playlist"
   ]
  },
  {
   "cell_type": "code",
   "execution_count": 57,
   "metadata": {},
   "outputs": [],
   "source": [
    "# in batches, add the songs to the playlist\n",
    "\n",
    "def add_tracks_to_main_playlist():\n",
    "    for batch in batches:\n",
    "        sp.playlist_add_items(playlist_id=AutoRepeatAll_id, items=batch)\n",
    "    return print(\"confirm tracks added in spotify app\")"
   ]
  },
  {
   "cell_type": "code",
   "execution_count": 58,
   "metadata": {},
   "outputs": [
    {
     "name": "stdout",
     "output_type": "stream",
     "text": [
      "confirm tracks added in spotify app\n"
     ]
    }
   ],
   "source": [
    "add_tracks_to_main_playlist()"
   ]
  },
  {
   "cell_type": "markdown",
   "metadata": {},
   "source": [
    "## Once the Original Containing Playlist is made..."
   ]
  },
  {
   "cell_type": "markdown",
   "metadata": {},
   "source": [
    "### get orignal Playlist "
   ]
  },
  {
   "cell_type": "code",
   "execution_count": 25,
   "metadata": {},
   "outputs": [],
   "source": [
    "def read_latest_csv():\n",
    "    fld = \"./data\"\n",
    "    files = Path(fld).glob('*csv')\n",
    "    latest = max(files, key=lambda f: f.stat().st_mtime)\n",
    "    return pd.read_csv(\"{}\".format(latest))"
   ]
  },
  {
   "cell_type": "code",
   "execution_count": 36,
   "metadata": {},
   "outputs": [],
   "source": [
    "# get laatest csv track list:\n",
    "most_recent_df = read_latest_csv()\n",
    "most_recent_tracks = most_recent_df[\"track_id\"].tolist()"
   ]
  },
  {
   "cell_type": "code",
   "execution_count": 37,
   "metadata": {},
   "outputs": [
    {
     "data": {
      "text/html": [
       "<div>\n",
       "<style scoped>\n",
       "    .dataframe tbody tr th:only-of-type {\n",
       "        vertical-align: middle;\n",
       "    }\n",
       "\n",
       "    .dataframe tbody tr th {\n",
       "        vertical-align: top;\n",
       "    }\n",
       "\n",
       "    .dataframe thead th {\n",
       "        text-align: right;\n",
       "    }\n",
       "</style>\n",
       "<table border=\"1\" class=\"dataframe\">\n",
       "  <thead>\n",
       "    <tr style=\"text-align: right;\">\n",
       "      <th></th>\n",
       "      <th>artist</th>\n",
       "      <th>album</th>\n",
       "      <th>track_name</th>\n",
       "      <th>track_id</th>\n",
       "    </tr>\n",
       "  </thead>\n",
       "  <tbody>\n",
       "    <tr>\n",
       "      <th>0</th>\n",
       "      <td>The Smiths</td>\n",
       "      <td>Rank</td>\n",
       "      <td>Still Ill - Live in London, 1986</td>\n",
       "      <td>1EU12yfayMBmqQy3Q92kn1</td>\n",
       "    </tr>\n",
       "    <tr>\n",
       "      <th>1</th>\n",
       "      <td>Kanye West</td>\n",
       "      <td>The Life Of Pablo</td>\n",
       "      <td>FML</td>\n",
       "      <td>30Zcjs7pgEkmJA1lEbGSWT</td>\n",
       "    </tr>\n",
       "    <tr>\n",
       "      <th>2</th>\n",
       "      <td>Babyshambles</td>\n",
       "      <td>Down In Albion</td>\n",
       "      <td>Fuck Forever</td>\n",
       "      <td>41Z2joQXOwZRBB8V6zk0A8</td>\n",
       "    </tr>\n",
       "    <tr>\n",
       "      <th>3</th>\n",
       "      <td>Ian Pooley</td>\n",
       "      <td>Since Then. 2017</td>\n",
       "      <td>900 Degrees</td>\n",
       "      <td>3nBF7oaQBAY6M2eVuUCnYn</td>\n",
       "    </tr>\n",
       "    <tr>\n",
       "      <th>4</th>\n",
       "      <td>Sweet Trip</td>\n",
       "      <td>Seen/Unseen</td>\n",
       "      <td>KKMJ</td>\n",
       "      <td>15VdjtCwcVZmVZHRy63Zgj</td>\n",
       "    </tr>\n",
       "    <tr>\n",
       "      <th>...</th>\n",
       "      <td>...</td>\n",
       "      <td>...</td>\n",
       "      <td>...</td>\n",
       "      <td>...</td>\n",
       "    </tr>\n",
       "    <tr>\n",
       "      <th>350</th>\n",
       "      <td>The Smiths</td>\n",
       "      <td>Louder Than Bombs</td>\n",
       "      <td>Hand in Glove - 2011 Remaster</td>\n",
       "      <td>17OgrEnuBJlrm0eksr3hfd</td>\n",
       "    </tr>\n",
       "    <tr>\n",
       "      <th>351</th>\n",
       "      <td>Hozier</td>\n",
       "      <td>Hozier</td>\n",
       "      <td>To Be Alone</td>\n",
       "      <td>0fEKxq1mghyT0b867l4Jaf</td>\n",
       "    </tr>\n",
       "    <tr>\n",
       "      <th>352</th>\n",
       "      <td>Cloudy June</td>\n",
       "      <td>FU In My Head</td>\n",
       "      <td>FU In My Head</td>\n",
       "      <td>5ZSV1Y3Cq2HkGOYOwxpClP</td>\n",
       "    </tr>\n",
       "    <tr>\n",
       "      <th>353</th>\n",
       "      <td>Billie Eilish</td>\n",
       "      <td>WHEN WE ALL FALL ASLEEP, WHERE DO WE GO?</td>\n",
       "      <td>my strange addiction</td>\n",
       "      <td>3Tc57t9l2O8FwQZtQOvPXK</td>\n",
       "    </tr>\n",
       "    <tr>\n",
       "      <th>354</th>\n",
       "      <td>Cavetown</td>\n",
       "      <td>Sleepyhead</td>\n",
       "      <td>Things That Make It Warm</td>\n",
       "      <td>4tN2kX3tYCr1R4qCSS2LDV</td>\n",
       "    </tr>\n",
       "  </tbody>\n",
       "</table>\n",
       "<p>355 rows × 4 columns</p>\n",
       "</div>"
      ],
      "text/plain": [
       "            artist                                     album  \\\n",
       "0       The Smiths                                      Rank   \n",
       "1       Kanye West                         The Life Of Pablo   \n",
       "2     Babyshambles                            Down In Albion   \n",
       "3       Ian Pooley                          Since Then. 2017   \n",
       "4       Sweet Trip                               Seen/Unseen   \n",
       "..             ...                                       ...   \n",
       "350     The Smiths                         Louder Than Bombs   \n",
       "351         Hozier                                    Hozier   \n",
       "352    Cloudy June                             FU In My Head   \n",
       "353  Billie Eilish  WHEN WE ALL FALL ASLEEP, WHERE DO WE GO?   \n",
       "354       Cavetown                                Sleepyhead   \n",
       "\n",
       "                           track_name                track_id  \n",
       "0    Still Ill - Live in London, 1986  1EU12yfayMBmqQy3Q92kn1  \n",
       "1                                 FML  30Zcjs7pgEkmJA1lEbGSWT  \n",
       "2                        Fuck Forever  41Z2joQXOwZRBB8V6zk0A8  \n",
       "3                         900 Degrees  3nBF7oaQBAY6M2eVuUCnYn  \n",
       "4                                KKMJ  15VdjtCwcVZmVZHRy63Zgj  \n",
       "..                                ...                     ...  \n",
       "350     Hand in Glove - 2011 Remaster  17OgrEnuBJlrm0eksr3hfd  \n",
       "351                       To Be Alone  0fEKxq1mghyT0b867l4Jaf  \n",
       "352                     FU In My Head  5ZSV1Y3Cq2HkGOYOwxpClP  \n",
       "353              my strange addiction  3Tc57t9l2O8FwQZtQOvPXK  \n",
       "354          Things That Make It Warm  4tN2kX3tYCr1R4qCSS2LDV  \n",
       "\n",
       "[355 rows x 4 columns]"
      ]
     },
     "execution_count": 37,
     "metadata": {},
     "output_type": "execute_result"
    }
   ],
   "source": [
    "most_recent_df"
   ]
  },
  {
   "cell_type": "markdown",
   "metadata": {},
   "source": [
    "most_recent_df"
   ]
  },
  {
   "cell_type": "code",
   "execution_count": 27,
   "metadata": {},
   "outputs": [],
   "source": [
    "# make df to hold items to be added to playlist?\n",
    "new_columns = [\"artist\", \"album\", \"track_name\", \"track_id\"]\n",
    "new_df = pd.DataFrame(columns = new_columns)"
   ]
  },
  {
   "cell_type": "code",
   "execution_count": 28,
   "metadata": {},
   "outputs": [],
   "source": [
    "new_playlist_list = make_playlist_df_list(playlist_urls)"
   ]
  },
  {
   "cell_type": "code",
   "execution_count": 29,
   "metadata": {},
   "outputs": [],
   "source": [
    "new_df = add_playlist_dfs_to_df(new_df, new_playlist_list)"
   ]
  },
  {
   "cell_type": "code",
   "execution_count": 30,
   "metadata": {},
   "outputs": [],
   "source": [
    "new_tracks = new_df['track_id'].tolist()"
   ]
  },
  {
   "cell_type": "code",
   "execution_count": 39,
   "metadata": {},
   "outputs": [
    {
     "data": {
      "text/plain": [
       "355"
      ]
     },
     "execution_count": 39,
     "metadata": {},
     "output_type": "execute_result"
    }
   ],
   "source": [
    "len(new_tracks)"
   ]
  },
  {
   "cell_type": "markdown",
   "metadata": {},
   "source": [
    "### Add Only New Songs if Playlists Update"
   ]
  },
  {
   "cell_type": "code",
   "execution_count": 32,
   "metadata": {},
   "outputs": [],
   "source": [
    "def add_new_tracks_only():\n",
    "    unique_tracks = []\n",
    "    for i in new_tracks:\n",
    "        if i not in most_recent_tracks:\n",
    "            unique_tracks.append(i)\n",
    "        else: pass\n",
    "    sp.playlist_add_items(playlist_id=AutoRepeatAll_id, items= unique_tracks)"
   ]
  },
  {
   "cell_type": "code",
   "execution_count": 33,
   "metadata": {},
   "outputs": [
    {
     "name": "stderr",
     "output_type": "stream",
     "text": [
      "HTTP Error for POST to https://api.spotify.com/v1/playlists/2BmjcSAnnohokmXpCJBMdN/tracks with Params: {'position': None} returned 400 due to Error parsing JSON.\n"
     ]
    },
    {
     "ename": "SpotifyException",
     "evalue": "http status: 400, code:-1 - https://api.spotify.com/v1/playlists/2BmjcSAnnohokmXpCJBMdN/tracks:\n Error parsing JSON., reason: None",
     "output_type": "error",
     "traceback": [
      "\u001b[0;31m---------------------------------------------------------------------------\u001b[0m",
      "\u001b[0;31mHTTPError\u001b[0m                                 Traceback (most recent call last)",
      "\u001b[0;32m~/opt/anaconda3/lib/python3.8/site-packages/spotipy/client.py\u001b[0m in \u001b[0;36m_internal_call\u001b[0;34m(self, method, url, payload, params)\u001b[0m\n\u001b[1;32m    244\u001b[0m \u001b[0;34m\u001b[0m\u001b[0m\n\u001b[0;32m--> 245\u001b[0;31m             \u001b[0mresponse\u001b[0m\u001b[0;34m.\u001b[0m\u001b[0mraise_for_status\u001b[0m\u001b[0;34m(\u001b[0m\u001b[0;34m)\u001b[0m\u001b[0;34m\u001b[0m\u001b[0;34m\u001b[0m\u001b[0m\n\u001b[0m\u001b[1;32m    246\u001b[0m             \u001b[0mresults\u001b[0m \u001b[0;34m=\u001b[0m \u001b[0mresponse\u001b[0m\u001b[0;34m.\u001b[0m\u001b[0mjson\u001b[0m\u001b[0;34m(\u001b[0m\u001b[0;34m)\u001b[0m\u001b[0;34m\u001b[0m\u001b[0;34m\u001b[0m\u001b[0m\n",
      "\u001b[0;32m~/opt/anaconda3/lib/python3.8/site-packages/requests/models.py\u001b[0m in \u001b[0;36mraise_for_status\u001b[0;34m(self)\u001b[0m\n\u001b[1;32m    959\u001b[0m         \u001b[0;32mif\u001b[0m \u001b[0mhttp_error_msg\u001b[0m\u001b[0;34m:\u001b[0m\u001b[0;34m\u001b[0m\u001b[0;34m\u001b[0m\u001b[0m\n\u001b[0;32m--> 960\u001b[0;31m             \u001b[0;32mraise\u001b[0m \u001b[0mHTTPError\u001b[0m\u001b[0;34m(\u001b[0m\u001b[0mhttp_error_msg\u001b[0m\u001b[0;34m,\u001b[0m \u001b[0mresponse\u001b[0m\u001b[0;34m=\u001b[0m\u001b[0mself\u001b[0m\u001b[0;34m)\u001b[0m\u001b[0;34m\u001b[0m\u001b[0;34m\u001b[0m\u001b[0m\n\u001b[0m\u001b[1;32m    961\u001b[0m \u001b[0;34m\u001b[0m\u001b[0m\n",
      "\u001b[0;31mHTTPError\u001b[0m: 400 Client Error: Bad Request for url: https://api.spotify.com/v1/playlists/2BmjcSAnnohokmXpCJBMdN/tracks",
      "\nDuring handling of the above exception, another exception occurred:\n",
      "\u001b[0;31mSpotifyException\u001b[0m                          Traceback (most recent call last)",
      "\u001b[0;32m<ipython-input-33-6b6d184082a2>\u001b[0m in \u001b[0;36m<module>\u001b[0;34m\u001b[0m\n\u001b[0;32m----> 1\u001b[0;31m \u001b[0madd_new_tracks_only\u001b[0m\u001b[0;34m(\u001b[0m\u001b[0;34m)\u001b[0m\u001b[0;34m\u001b[0m\u001b[0;34m\u001b[0m\u001b[0m\n\u001b[0m",
      "\u001b[0;32m<ipython-input-32-9e257adccffa>\u001b[0m in \u001b[0;36madd_new_tracks_only\u001b[0;34m()\u001b[0m\n\u001b[1;32m      5\u001b[0m             \u001b[0munique_tracks\u001b[0m\u001b[0;34m.\u001b[0m\u001b[0mappend\u001b[0m\u001b[0;34m(\u001b[0m\u001b[0mi\u001b[0m\u001b[0;34m)\u001b[0m\u001b[0;34m\u001b[0m\u001b[0;34m\u001b[0m\u001b[0m\n\u001b[1;32m      6\u001b[0m         \u001b[0;32melse\u001b[0m\u001b[0;34m:\u001b[0m \u001b[0;32mpass\u001b[0m\u001b[0;34m\u001b[0m\u001b[0;34m\u001b[0m\u001b[0m\n\u001b[0;32m----> 7\u001b[0;31m     \u001b[0msp\u001b[0m\u001b[0;34m.\u001b[0m\u001b[0mplaylist_add_items\u001b[0m\u001b[0;34m(\u001b[0m\u001b[0mplaylist_id\u001b[0m\u001b[0;34m=\u001b[0m\u001b[0mAutoRepeatAll_id\u001b[0m\u001b[0;34m,\u001b[0m \u001b[0mitems\u001b[0m\u001b[0;34m=\u001b[0m \u001b[0munique_tracks\u001b[0m\u001b[0;34m)\u001b[0m\u001b[0;34m\u001b[0m\u001b[0;34m\u001b[0m\u001b[0m\n\u001b[0m",
      "\u001b[0;32m~/opt/anaconda3/lib/python3.8/site-packages/spotipy/client.py\u001b[0m in \u001b[0;36mplaylist_add_items\u001b[0;34m(self, playlist_id, items, position)\u001b[0m\n\u001b[1;32m   1029\u001b[0m         \u001b[0mplid\u001b[0m \u001b[0;34m=\u001b[0m \u001b[0mself\u001b[0m\u001b[0;34m.\u001b[0m\u001b[0m_get_id\u001b[0m\u001b[0;34m(\u001b[0m\u001b[0;34m\"playlist\"\u001b[0m\u001b[0;34m,\u001b[0m \u001b[0mplaylist_id\u001b[0m\u001b[0;34m)\u001b[0m\u001b[0;34m\u001b[0m\u001b[0;34m\u001b[0m\u001b[0m\n\u001b[1;32m   1030\u001b[0m         \u001b[0mftracks\u001b[0m \u001b[0;34m=\u001b[0m \u001b[0;34m[\u001b[0m\u001b[0mself\u001b[0m\u001b[0;34m.\u001b[0m\u001b[0m_get_uri\u001b[0m\u001b[0;34m(\u001b[0m\u001b[0;34m\"track\"\u001b[0m\u001b[0;34m,\u001b[0m \u001b[0mtid\u001b[0m\u001b[0;34m)\u001b[0m \u001b[0;32mfor\u001b[0m \u001b[0mtid\u001b[0m \u001b[0;32min\u001b[0m \u001b[0mitems\u001b[0m\u001b[0;34m]\u001b[0m\u001b[0;34m\u001b[0m\u001b[0;34m\u001b[0m\u001b[0m\n\u001b[0;32m-> 1031\u001b[0;31m         return self._post(\n\u001b[0m\u001b[1;32m   1032\u001b[0m             \u001b[0;34m\"playlists/%s/tracks\"\u001b[0m \u001b[0;34m%\u001b[0m \u001b[0;34m(\u001b[0m\u001b[0mplid\u001b[0m\u001b[0;34m)\u001b[0m\u001b[0;34m,\u001b[0m\u001b[0;34m\u001b[0m\u001b[0;34m\u001b[0m\u001b[0m\n\u001b[1;32m   1033\u001b[0m             \u001b[0mpayload\u001b[0m\u001b[0;34m=\u001b[0m\u001b[0mftracks\u001b[0m\u001b[0;34m,\u001b[0m\u001b[0;34m\u001b[0m\u001b[0;34m\u001b[0m\u001b[0m\n",
      "\u001b[0;32m~/opt/anaconda3/lib/python3.8/site-packages/spotipy/client.py\u001b[0m in \u001b[0;36m_post\u001b[0;34m(self, url, args, payload, **kwargs)\u001b[0m\n\u001b[1;32m    300\u001b[0m         \u001b[0;32mif\u001b[0m \u001b[0margs\u001b[0m\u001b[0;34m:\u001b[0m\u001b[0;34m\u001b[0m\u001b[0;34m\u001b[0m\u001b[0m\n\u001b[1;32m    301\u001b[0m             \u001b[0mkwargs\u001b[0m\u001b[0;34m.\u001b[0m\u001b[0mupdate\u001b[0m\u001b[0;34m(\u001b[0m\u001b[0margs\u001b[0m\u001b[0;34m)\u001b[0m\u001b[0;34m\u001b[0m\u001b[0;34m\u001b[0m\u001b[0m\n\u001b[0;32m--> 302\u001b[0;31m         \u001b[0;32mreturn\u001b[0m \u001b[0mself\u001b[0m\u001b[0;34m.\u001b[0m\u001b[0m_internal_call\u001b[0m\u001b[0;34m(\u001b[0m\u001b[0;34m\"POST\"\u001b[0m\u001b[0;34m,\u001b[0m \u001b[0murl\u001b[0m\u001b[0;34m,\u001b[0m \u001b[0mpayload\u001b[0m\u001b[0;34m,\u001b[0m \u001b[0mkwargs\u001b[0m\u001b[0;34m)\u001b[0m\u001b[0;34m\u001b[0m\u001b[0;34m\u001b[0m\u001b[0m\n\u001b[0m\u001b[1;32m    303\u001b[0m \u001b[0;34m\u001b[0m\u001b[0m\n\u001b[1;32m    304\u001b[0m     \u001b[0;32mdef\u001b[0m \u001b[0m_delete\u001b[0m\u001b[0;34m(\u001b[0m\u001b[0mself\u001b[0m\u001b[0;34m,\u001b[0m \u001b[0murl\u001b[0m\u001b[0;34m,\u001b[0m \u001b[0margs\u001b[0m\u001b[0;34m=\u001b[0m\u001b[0;32mNone\u001b[0m\u001b[0;34m,\u001b[0m \u001b[0mpayload\u001b[0m\u001b[0;34m=\u001b[0m\u001b[0;32mNone\u001b[0m\u001b[0;34m,\u001b[0m \u001b[0;34m**\u001b[0m\u001b[0mkwargs\u001b[0m\u001b[0;34m)\u001b[0m\u001b[0;34m:\u001b[0m\u001b[0;34m\u001b[0m\u001b[0;34m\u001b[0m\u001b[0m\n",
      "\u001b[0;32m~/opt/anaconda3/lib/python3.8/site-packages/spotipy/client.py\u001b[0m in \u001b[0;36m_internal_call\u001b[0;34m(self, method, url, payload, params)\u001b[0m\n\u001b[1;32m    265\u001b[0m             )\n\u001b[1;32m    266\u001b[0m \u001b[0;34m\u001b[0m\u001b[0m\n\u001b[0;32m--> 267\u001b[0;31m             raise SpotifyException(\n\u001b[0m\u001b[1;32m    268\u001b[0m                 \u001b[0mresponse\u001b[0m\u001b[0;34m.\u001b[0m\u001b[0mstatus_code\u001b[0m\u001b[0;34m,\u001b[0m\u001b[0;34m\u001b[0m\u001b[0;34m\u001b[0m\u001b[0m\n\u001b[1;32m    269\u001b[0m                 \u001b[0;34m-\u001b[0m\u001b[0;36m1\u001b[0m\u001b[0;34m,\u001b[0m\u001b[0;34m\u001b[0m\u001b[0;34m\u001b[0m\u001b[0m\n",
      "\u001b[0;31mSpotifyException\u001b[0m: http status: 400, code:-1 - https://api.spotify.com/v1/playlists/2BmjcSAnnohokmXpCJBMdN/tracks:\n Error parsing JSON., reason: None"
     ]
    }
   ],
   "source": [
    "add_new_tracks_only()"
   ]
  },
  {
   "cell_type": "code",
   "execution_count": null,
   "metadata": {},
   "outputs": [],
   "source": []
  }
 ],
 "metadata": {
  "kernelspec": {
   "display_name": "Python 3",
   "language": "python",
   "name": "python3"
  },
  "language_info": {
   "codemirror_mode": {
    "name": "ipython",
    "version": 3
   },
   "file_extension": ".py",
   "mimetype": "text/x-python",
   "name": "python",
   "nbconvert_exporter": "python",
   "pygments_lexer": "ipython3",
   "version": "3.8.5"
  }
 },
 "nbformat": 4,
 "nbformat_minor": 4
}
